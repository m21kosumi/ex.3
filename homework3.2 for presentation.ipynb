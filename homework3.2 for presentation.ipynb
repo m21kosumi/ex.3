{
 "cells": [
  {
   "cell_type": "markdown",
   "metadata": {},
   "source": [
    "# DiscreteDP Example: Asset Replacement"
   ]
  },
  {
   "cell_type": "markdown",
   "metadata": {},
   "source": [
    "# 7.2.2 モデルについて"
   ]
  },
  {
   "cell_type": "markdown",
   "metadata": {},
   "source": [
    "manufacturerが毎年初めに設備を入れ替えるかどうか選択を行う.\n",
    "\n",
    "    ・設備の稼働年数をa(1<=a<=n)とし、設備から得られるprofitはp(a)で表す.\n",
    "    ・新しい設備の導入にはコストcがかかる.\n",
    "    \n",
    "ここから、どのようなreplacementのpolicyがprofitを最大化するかを考える."
   ]
  },
  {
   "cell_type": "markdown",
   "metadata": {},
   "source": [
    "    ・取りうるアクションはxで表し、keepかreplaceとなる.\n",
    "    ・状態遷移関数g(a,x)は、keepのときa+1、replaceのとき1\n",
    "    ・報酬関数f(a,x)は、keepのときp(a)、replaceのときp(0)-c\n",
    "ここから、aは次のBellman equationを満たす.\n",
    "\n",
    "$V(a) = \\max \\left\\{ p(a)+\\delta V(a+1),p(0)-c+\\delta V(1) \\right\\}$"
   ]
  },
  {
   "cell_type": "markdown",
   "metadata": {},
   "source": [
    "ただし、n年までに必ずreplaceを行うため、p(n)＝－∞とする.\n",
    "\n",
    "また、上の等式は以下のことを表す.\n",
    "    \n",
    "    ・もし設備をa年まで保有した場合、次年までにp(a)の報酬が発生し、\n",
    "    　さらに設備の価値がV(a+1)となる.\n",
    "    ・もしreplaceを行うと、次年までにp(0)-cの報酬が発生し、\n",
    "    　さらに設備の価値がV(1)になる.\n",
    "     \n",
    "ここで、V(a)は単にa年保有している設備が将来にかけて生み出す純利益だけでなく、その後保有されるすべての設備が将来にわたって生み出す純利益を表す."
   ]
  },
  {
   "cell_type": "markdown",
   "metadata": {},
   "source": [
    "# 7.6.2 Example"
   ]
  },
  {
   "cell_type": "markdown",
   "metadata": {},
   "source": [
    "・profitは　$p(a)=50-2.5a-2.5a^2$"
   ]
  },
  {
   "cell_type": "code",
   "execution_count": 1,
   "metadata": {
    "collapsed": true,
    "scrolled": true
   },
   "outputs": [],
   "source": [
    "using QuantEcon"
   ]
  },
  {
   "cell_type": "code",
   "execution_count": 2,
   "metadata": {},
   "outputs": [
    {
     "data": {
      "text/html": [
       "2"
      ],
      "text/plain": [
       "2"
      ]
     },
     "execution_count": 2,
     "metadata": {},
     "output_type": "execute_result"
    }
   ],
   "source": [
    "maxage = 5    # Maximum asset age\n",
    "repcost = 75  # Replacement cost\n",
    "beta = 0.9    # Discount factor\n",
    "m = 2         # Number of actions; 1: keep, 2: replace"
   ]
  },
  {
   "cell_type": "code",
   "execution_count": 3,
   "metadata": {},
   "outputs": [
    {
     "data": {
      "text/html": [
       "5"
      ],
      "text/plain": [
       "5"
      ]
     },
     "execution_count": 3,
     "metadata": {},
     "output_type": "execute_result"
    }
   ],
   "source": [
    "# State space\n",
    "S = [i for i in 1:maxage]\n",
    "# Number of states\n",
    "n = length(S)"
   ]
  },
  {
   "cell_type": "code",
   "execution_count": 4,
   "metadata": {
    "scrolled": true
   },
   "outputs": [
    {
     "data": {
      "text/html": [
       "-Inf"
      ],
      "text/plain": [
       "-Inf"
      ]
     },
     "execution_count": 4,
     "metadata": {},
     "output_type": "execute_result"
    }
   ],
   "source": [
    "# Reward array\n",
    "R = Array{Float64}(n,m)\n",
    "for i in 1:n\n",
    "R[i, 1] = 50 - 2.5 * S[i] - 2.5 * S[i]^2\n",
    "R[i, 2] = 50 - repcost\n",
    "end\n",
    "\n",
    "# Infeasible action\n",
    "R[n,1] = -Inf"
   ]
  },
  {
   "cell_type": "code",
   "execution_count": 5,
   "metadata": {
    "scrolled": true
   },
   "outputs": [
    {
     "data": {
      "text/plain": [
       "5×2 Array{Float64,2}:\n",
       "   45.0  -25.0\n",
       "   35.0  -25.0\n",
       "   20.0  -25.0\n",
       "    0.0  -25.0\n",
       " -Inf    -25.0"
      ]
     },
     "execution_count": 5,
     "metadata": {},
     "output_type": "execute_result"
    }
   ],
   "source": [
    "R"
   ]
  },
  {
   "cell_type": "code",
   "execution_count": 6,
   "metadata": {
    "collapsed": true,
    "scrolled": true
   },
   "outputs": [],
   "source": [
    "# (Degenerate) transition probability array\n",
    "Q = zeros(n,m,n)\n",
    "for i in 1:n\n",
    "    Q[i, 1, min(i+1, n)] = 1 #keep\n",
    "    Q[i, 2, 1] = 1 #replace\n",
    "end"
   ]
  },
  {
   "cell_type": "code",
   "execution_count": 7,
   "metadata": {
    "scrolled": false
   },
   "outputs": [
    {
     "data": {
      "text/plain": [
       "5×2×5 Array{Float64,3}:\n",
       "[:, :, 1] =\n",
       " 0.0  1.0\n",
       " 0.0  1.0\n",
       " 0.0  1.0\n",
       " 0.0  1.0\n",
       " 0.0  1.0\n",
       "\n",
       "[:, :, 2] =\n",
       " 1.0  0.0\n",
       " 0.0  0.0\n",
       " 0.0  0.0\n",
       " 0.0  0.0\n",
       " 0.0  0.0\n",
       "\n",
       "[:, :, 3] =\n",
       " 0.0  0.0\n",
       " 1.0  0.0\n",
       " 0.0  0.0\n",
       " 0.0  0.0\n",
       " 0.0  0.0\n",
       "\n",
       "[:, :, 4] =\n",
       " 0.0  0.0\n",
       " 0.0  0.0\n",
       " 1.0  0.0\n",
       " 0.0  0.0\n",
       " 0.0  0.0\n",
       "\n",
       "[:, :, 5] =\n",
       " 0.0  0.0\n",
       " 0.0  0.0\n",
       " 0.0  0.0\n",
       " 1.0  0.0\n",
       " 1.0  0.0"
      ]
     },
     "execution_count": 7,
     "metadata": {},
     "output_type": "execute_result"
    }
   ],
   "source": [
    "Q #python版Qを縦に見たかたち"
   ]
  },
  {
   "cell_type": "code",
   "execution_count": 8,
   "metadata": {
    "scrolled": false
   },
   "outputs": [
    {
     "data": {
      "text/plain": [
       "QuantEcon.DiscreteDP{Float64,3,2,Float64,Int64}([45.0 -25.0; 35.0 -25.0; … ; 0.0 -25.0; -Inf -25.0], [0.0 1.0; 0.0 1.0; … ; 0.0 1.0; 0.0 1.0]\n",
       "\n",
       "[1.0 0.0; 0.0 0.0; … ; 0.0 0.0; 0.0 0.0]\n",
       "\n",
       "[0.0 0.0; 1.0 0.0; … ; 0.0 0.0; 0.0 0.0]\n",
       "\n",
       "[0.0 0.0; 0.0 0.0; … ; 0.0 0.0; 0.0 0.0]\n",
       "\n",
       "[0.0 0.0; 0.0 0.0; … ; 1.0 0.0; 1.0 0.0], 0.9, Nullable{Array{Int64,1}}(), Nullable{Array{Int64,1}}())"
      ]
     },
     "execution_count": 8,
     "metadata": {},
     "output_type": "execute_result"
    }
   ],
   "source": [
    "# Create a DiscreteDP\n",
    "ddp = DiscreteDP(R, Q, beta)"
   ]
  },
  {
   "cell_type": "code",
   "execution_count": 9,
   "metadata": {},
   "outputs": [
    {
     "data": {
      "text/plain": [
       "QuantEcon.DPSolveResult{QuantEcon.VFI,Float64}([216.56, 190.622, 172.913, 169.904, 169.904], [216.56, 190.622, 172.913, 169.904, 169.904], 123, [1, 1, 1, 2, 2], Discrete Markov Chain\n",
       "stochastic matrix of type Array{Float64,2}:\n",
       "[0.0 1.0 … 0.0 0.0; 0.0 0.0 … 0.0 0.0; … ; 1.0 0.0 … 0.0 0.0; 1.0 0.0 … 0.0 0.0])"
      ]
     },
     "execution_count": 9,
     "metadata": {},
     "output_type": "execute_result"
    }
   ],
   "source": [
    "# Solve the dynamic optimization problem (by policy iteration)\n",
    "res = solve(ddp)"
   ]
  },
  {
   "cell_type": "code",
   "execution_count": 10,
   "metadata": {},
   "outputs": [
    {
     "data": {
      "text/html": [
       "123"
      ],
      "text/plain": [
       "123"
      ]
     },
     "execution_count": 10,
     "metadata": {},
     "output_type": "execute_result"
    }
   ],
   "source": [
    "# 反復回数\n",
    "res.num_iter"
   ]
  },
  {
   "cell_type": "code",
   "execution_count": 11,
   "metadata": {},
   "outputs": [
    {
     "data": {
      "text/plain": [
       "5-element Array{Float64,1}:\n",
       " 216.56 \n",
       " 190.622\n",
       " 172.913\n",
       " 169.904\n",
       " 169.904"
      ]
     },
     "execution_count": 11,
     "metadata": {},
     "output_type": "execute_result"
    }
   ],
   "source": [
    "# Optimal value function\n",
    "res.v"
   ]
  },
  {
   "cell_type": "code",
   "execution_count": 12,
   "metadata": {},
   "outputs": [
    {
     "data": {
      "text/plain": [
       "5-element Array{Int64,1}:\n",
       " 0\n",
       " 0\n",
       " 0\n",
       " 1\n",
       " 1"
      ]
     },
     "execution_count": 12,
     "metadata": {},
     "output_type": "execute_result"
    }
   ],
   "source": [
    "# Optimal policy\n",
    "res.sigma - 1"
   ]
  },
  {
   "cell_type": "code",
   "execution_count": 15,
   "metadata": {
    "scrolled": false
   },
   "outputs": [
    {
     "data": {
      "text/plain": [
       "5×5 Array{Float64,2}:\n",
       " 0.0  1.0  0.0  0.0  0.0\n",
       " 0.0  0.0  1.0  0.0  0.0\n",
       " 0.0  0.0  0.0  1.0  0.0\n",
       " 1.0  0.0  0.0  0.0  0.0\n",
       " 1.0  0.0  0.0  0.0  0.0"
      ]
     },
     "execution_count": 15,
     "metadata": {},
     "output_type": "execute_result"
    }
   ],
   "source": [
    "# Transition probability matrix\n",
    "res.mc.p"
   ]
  },
  {
   "cell_type": "code",
   "execution_count": 16,
   "metadata": {
    "scrolled": false
   },
   "outputs": [
    {
     "data": {
      "text/plain": [
       "13-element Array{Int64,1}:\n",
       " 1\n",
       " 2\n",
       " 3\n",
       " 4\n",
       " 1\n",
       " 2\n",
       " 3\n",
       " 4\n",
       " 1\n",
       " 2\n",
       " 3\n",
       " 4\n",
       " 1"
      ]
     },
     "execution_count": 16,
     "metadata": {},
     "output_type": "execute_result"
    }
   ],
   "source": [
    "# Simulate the controlled Markov chain\n",
    "initial_state_value = 1\n",
    "nyrs = 12\n",
    "spath = simulate(res.mc, nyrs+1, init=initial_state_value)"
   ]
  },
  {
   "cell_type": "code",
   "execution_count": 17,
   "metadata": {},
   "outputs": [
    {
     "name": "stderr",
     "output_type": "stream",
     "text": [
      "\u001b[1m\u001b[36mINFO: \u001b[39m\u001b[22m\u001b[36mRecompiling stale cache file C:\\Users\\mao21\\.julia\\lib\\v0.6\\PyPlot.ji for module PyPlot.\n",
      "\u001b[39m"
     ]
    }
   ],
   "source": [
    "using PyPlot"
   ]
  },
  {
   "cell_type": "code",
   "execution_count": 18,
   "metadata": {},
   "outputs": [
    {
     "data": {
      "image/png": "[encoded data removed]",
      "text/plain": [
       "PyPlot.Figure(PyObject <matplotlib.figure.Figure object at 0x0000000041CDBCF8>)"
      ]
     },
     "metadata": {},
     "output_type": "display_data"
    },
    {
     "data": {
      "text/plain": [
       "PyObject <matplotlib.text.Text object at 0x0000000041D48208>"
      ]
     },
     "execution_count": 18,
     "metadata": {},
     "output_type": "execute_result"
    }
   ],
   "source": [
    "import PyPlot.plt\n",
    "fig, axes = plt[:subplots](1, 2, figsize=(12, 4))\n",
    "axes[1][:plot]( [i for i in 1:n], res.v)\n",
    "axes[1][:set_xlim](1, 5)\n",
    "axes[1][:set_ylim](160, 220)\n",
    "axes[1][:set_xticks](linspace(1, 5, 5))\n",
    "axes[1][:set_xlabel](\"Age of Machine\")\n",
    "axes[1][:set_ylabel](\"Value\")\n",
    "axes[1][:set_title](\"Optimal Value Function\")\n",
    "\n",
    "axes[2][:plot](spath)\n",
    "axes[2][:set_xlim](0, nyrs)\n",
    "axes[2][:set_ylim](1, 4)\n",
    "axes[2][:set_yticks](linspace(1, 4, 4))\n",
    "axes[2][:set_xlabel](\"Year\")\n",
    "axes[2][:set_ylabel](\"Age of Machine\")\n",
    "axes[2][:set_title](\"Optimal State Path\")"
   ]
  },
  {
   "cell_type": "markdown",
   "metadata": {
    "collapsed": true
   },
   "source": [
    "上のグラフから、設備は4年毎にreplaceするのが最適になっていることがわかる."
   ]
  }
 ],
 "metadata": {
  "kernelspec": {
   "display_name": "Julia 0.6.0",
   "language": "julia",
   "name": "julia-0.6"
  },
  "language_info": {
   "file_extension": ".jl",
   "mimetype": "application/julia",
   "name": "julia",
   "version": "0.6.0"
  }
 },
 "nbformat": 4,
 "nbformat_minor": 2
}
